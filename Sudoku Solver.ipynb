{
 "cells": [
  {
   "cell_type": "markdown",
   "id": "8c65c965",
   "metadata": {},
   "source": [
    "# Sudoku Solver"
   ]
  },
  {
   "cell_type": "code",
   "execution_count": 14,
   "id": "ec02d3cf",
   "metadata": {},
   "outputs": [],
   "source": [
    "def solve(board):\n",
    "    find = find_emp(board)\n",
    "    \n",
    "    if(not find):\n",
    "        return (True)\n",
    "    \n",
    "    else:\n",
    "        for i in range(1,10):\n",
    "            if(validate(board,i,find)):\n",
    "                board[find[0]][find[1]] = i\n",
    "                \n",
    "                if(solve(board)):\n",
    "                    return(True)\n",
    "                \n",
    "                board[find[0]][find[1]] = 0\n",
    "    return(False)\n",
    "            \n",
    "    "
   ]
  },
  {
   "cell_type": "code",
   "execution_count": 15,
   "id": "7359f1c6",
   "metadata": {},
   "outputs": [],
   "source": [
    "def validate(board, num, pos):\n",
    "    # WHILE VALIDATING WE NEED TO VALIDATE 3 PARAMETERS FOR SUDOKU\n",
    "    # 1. CHECK ROW\n",
    "    # 2. CHECK COLUMN\n",
    "    # 3. CHECK THE 3X3 BOX \n",
    "    # IN ALL THE THREE PARAMETERS EVERY ELEMENT SHOULD BE UNIQUE\n",
    "    \n",
    "    \n",
    "    # 1. CHECK ROW \n",
    "    for i in range(len(board[0])):\n",
    "        if((board[pos[0]][i] == num) and (pos[1] != i)):\n",
    "            return (False)\n",
    "    \n",
    "    # 2. CHECK COLUMN\n",
    "    for i in range(len(board)):\n",
    "        if((board[i][pos[1]] == num) and (pos[0] != i)):\n",
    "            return (False)\n",
    "    \n",
    "    # 3. CHECK THE 3X3 BOX\n",
    "    box_x = pos[1] // 3\n",
    "    box_y = pos[0] // 3\n",
    "    \n",
    "    for i in range(box_y*3, box_y * 3 +3):\n",
    "        for j in range(box_x*3, box_x * 3 +3):\n",
    "            if(board[i][j] == num and (i,j) != pos):\n",
    "                return(False)\n",
    "    \n",
    "    \n",
    "    return(True)\n",
    "        \n",
    "    "
   ]
  },
  {
   "cell_type": "code",
   "execution_count": 16,
   "id": "91c81efe",
   "metadata": {},
   "outputs": [
    {
     "name": "stdout",
     "output_type": "stream",
     "text": [
      "7 8 0  | 4 0 0  | 1 2 0\n",
      "6 0 0  | 0 7 5  | 0 0 9\n",
      "0 0 0  | 6 0 1  | 0 7 8\n",
      "- - - - - - - - - - - - - \n",
      "0 0 7  | 0 4 0  | 2 6 0\n",
      "0 0 1  | 0 5 0  | 9 3 0\n",
      "9 0 4  | 0 6 0  | 0 0 5\n",
      "- - - - - - - - - - - - - \n",
      "0 7 0  | 3 0 0  | 0 1 2\n",
      "1 2 0  | 0 0 7  | 4 0 0\n",
      "0 4 9  | 2 0 6  | 0 0 7\n"
     ]
    }
   ],
   "source": [
    "board = [\n",
    "    [7,8,0,4,0,0,1,2,0],\n",
    "    [6,0,0,0,7,5,0,0,9],\n",
    "    [0,0,0,6,0,1,0,7,8],\n",
    "    [0,0,7,0,4,0,2,6,0],\n",
    "    [0,0,1,0,5,0,9,3,0],\n",
    "    [9,0,4,0,6,0,0,0,5],\n",
    "    [0,7,0,3,0,0,0,1,2],\n",
    "    [1,2,0,0,0,7,4,0,0],\n",
    "    [0,4,9,2,0,6,0,0,7]\n",
    "]\n",
    "\n",
    "def print_board(board):\n",
    "    for i in range(len(board)):\n",
    "        if((i%3 == 0) and (i != 0)):\n",
    "            print(\"- - - - - - - - - - - - - \")\n",
    "        \n",
    "        for j in range(len(board[0])):\n",
    "            if((j%3 == 0) and (j != 0)):\n",
    "                print(\" | \", end = \"\")\n",
    "            \n",
    "            if(j == 8):\n",
    "                print(board[i][j])\n",
    "                \n",
    "            else:\n",
    "                print(board[i][j], end = \" \")\n",
    "# print_board(board)\n",
    "        "
   ]
  },
  {
   "cell_type": "code",
   "execution_count": 17,
   "id": "5e5ecf16",
   "metadata": {},
   "outputs": [],
   "source": [
    "def find_emp(board):\n",
    "    for i in range(len(board)):\n",
    "        for j in range(len(board[0])):\n",
    "            if(board[i][j] == 0):\n",
    "                return(i,j)     # Returns ROW=i & COLUMN = j\n",
    "    \n",
    "    return(None)\n",
    "# print(find_emp(board))"
   ]
  },
  {
   "cell_type": "code",
   "execution_count": 18,
   "id": "2dabbeb6",
   "metadata": {},
   "outputs": [
    {
     "name": "stdout",
     "output_type": "stream",
     "text": [
      "7 8 0  | 4 0 0  | 1 2 0\n",
      "6 0 0  | 0 7 5  | 0 0 9\n",
      "0 0 0  | 6 0 1  | 0 7 8\n",
      "- - - - - - - - - - - - - \n",
      "0 0 7  | 0 4 0  | 2 6 0\n",
      "0 0 1  | 0 5 0  | 9 3 0\n",
      "9 0 4  | 0 6 0  | 0 0 5\n",
      "- - - - - - - - - - - - - \n",
      "0 7 0  | 3 0 0  | 0 1 2\n",
      "1 2 0  | 0 0 7  | 4 0 0\n",
      "0 4 9  | 2 0 6  | 0 0 7\n",
      "_________________________________________\n",
      "7 8 5  | 4 3 9  | 1 2 6\n",
      "6 1 2  | 8 7 5  | 3 4 9\n",
      "4 9 3  | 6 2 1  | 5 7 8\n",
      "- - - - - - - - - - - - - \n",
      "8 5 7  | 9 4 3  | 2 6 1\n",
      "2 6 1  | 7 5 8  | 9 3 4\n",
      "9 3 4  | 1 6 2  | 7 8 5\n",
      "- - - - - - - - - - - - - \n",
      "5 7 8  | 3 9 4  | 6 1 2\n",
      "1 2 6  | 5 8 7  | 4 9 3\n",
      "3 4 9  | 2 1 6  | 8 5 7\n"
     ]
    }
   ],
   "source": [
    "# DRIVERS CODE\n",
    "print_board(board)\n",
    "solve(board)\n",
    "print(\"_________________________________________\")\n",
    "print_board(board)"
   ]
  },
  {
   "cell_type": "code",
   "execution_count": null,
   "id": "17a5425f",
   "metadata": {},
   "outputs": [],
   "source": []
  }
 ],
 "metadata": {
  "kernelspec": {
   "display_name": "Python 3",
   "language": "python",
   "name": "python3"
  },
  "language_info": {
   "codemirror_mode": {
    "name": "ipython",
    "version": 3
   },
   "file_extension": ".py",
   "mimetype": "text/x-python",
   "name": "python",
   "nbconvert_exporter": "python",
   "pygments_lexer": "ipython3",
   "version": "3.8.8"
  }
 },
 "nbformat": 4,
 "nbformat_minor": 5
}
